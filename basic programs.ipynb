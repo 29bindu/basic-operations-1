{
 "cells": [
  {
   "cell_type": "code",
   "execution_count": 1,
   "id": "138d2313-195e-4b57-a084-9d63bf13a60f",
   "metadata": {},
   "outputs": [
    {
     "name": "stdin",
     "output_type": "stream",
     "text": [
      "enter the value of a: 2\n",
      "enter the value of b: 3\n",
      "enter the value of c: 4\n",
      "enter the value of x: 6\n"
     ]
    },
    {
     "name": "stdout",
     "output_type": "stream",
     "text": [
      "The result of the equation is 94\n"
     ]
    }
   ],
   "source": [
    "#Basic operation\n",
    "a=int(input(\"enter the value of a:\"))\n",
    "b=int(input(\"enter the value of b:\"))\n",
    "c=int(input(\"enter the value of c:\"))\n",
    "x=int(input(\"enter the value of x:\"))\n",
    "result=a*(x**2)+b*x+c\n",
    "print(\"The result of the equation is\",result)\n"
   ]
  },
  {
   "cell_type": "code",
   "execution_count": 3,
   "id": "7277b468-e62d-400c-8b2f-3d18ca322b92",
   "metadata": {},
   "outputs": [
    {
     "name": "stdout",
     "output_type": "stream",
     "text": [
      "before swapping 1 2\n",
      "after swapping 2 1\n"
     ]
    }
   ],
   "source": [
    "#swapping numbesr\n",
    "a=1\n",
    "b=2\n",
    "print(\"before swapping\",a,b)\n",
    "a,b=b,a\n",
    "print(\"after swapping\",a,b)"
   ]
  },
  {
   "cell_type": "code",
   "execution_count": 7,
   "id": "ab6cae40-6460-4691-96c8-6c61cc580e8e",
   "metadata": {},
   "outputs": [
    {
     "name": "stdin",
     "output_type": "stream",
     "text": [
      "enter the value of a: 4\n",
      "enter the value of b: 7\n"
     ]
    },
    {
     "name": "stdout",
     "output_type": "stream",
     "text": [
      "before swap 4 7\n",
      "after swap 7 4\n"
     ]
    }
   ],
   "source": [
    "a=int(input(\"enter the value of a:\"))\n",
    "b=int(input(\"enter the value of b:\"))\n",
    "print(\"before swap\",a,b)\n",
    "temp=a\n",
    "a=b\n",
    "b=temp\n",
    "print(\"after swap\",a,b)"
   ]
  },
  {
   "cell_type": "code",
   "execution_count": 9,
   "id": "f35b52a2-edc8-4fb8-a6bd-60445005d971",
   "metadata": {},
   "outputs": [
    {
     "name": "stdin",
     "output_type": "stream",
     "text": [
      "enter the value of a: 3\n",
      "enter the value of b: 6\n"
     ]
    },
    {
     "name": "stdout",
     "output_type": "stream",
     "text": [
      "after swapping a= b= 6\n",
      "after swapping a= b= 3\n"
     ]
    }
   ],
   "source": [
    "#swapping using arthmatic operatons +-\n",
    "a=int(input(\"enter the value of a:\"))\n",
    "b=int(input(\"enter the value of b:\"))\n",
    "print(\"after swapping a=\",\"b=\",b)\n",
    "a=a+b\n",
    "b=a-b\n",
    "a=a-b\n",
    "print(\"after swapping a=\",\"b=\",b)\n",
    "\n"
   ]
  },
  {
   "cell_type": "code",
   "execution_count": 11,
   "id": "e7a97eac-2208-47ca-beab-560de1faa4d7",
   "metadata": {},
   "outputs": [
    {
     "name": "stdin",
     "output_type": "stream",
     "text": [
      "enter the value of a: 3\n",
      "enter the value of b: 7\n"
     ]
    },
    {
     "name": "stdout",
     "output_type": "stream",
     "text": [
      "after swapping a= b= 7\n",
      "after swapping a= 7 b= 3\n"
     ]
    }
   ],
   "source": [
    "a=int(input(\"enter the value of a:\"))\n",
    "b=int(input(\"enter the value of b:\"))\n",
    "print(\"after swapping a=\",\"b=\",b)\n",
    "a=a^b\n",
    "b=a^b\n",
    "a=a^b\n",
    "print(\"after swapping a=\", round(a),\"b=\",round(b))\n"
   ]
  },
  {
   "cell_type": "code",
   "execution_count": 17,
   "id": "60317bbb-f516-471f-97c9-3d7197351d08",
   "metadata": {},
   "outputs": [
    {
     "name": "stdin",
     "output_type": "stream",
     "text": [
      "enter value 6\n"
     ]
    },
    {
     "name": "stdout",
     "output_type": "stream",
     "text": [
      "Area of the circle: 113.09724\n",
      "Circumference of the circle: 37.699079999999995\n"
     ]
    }
   ],
   "source": [
    "pi=3.14159\n",
    "r=int(input(\"enter value\"))\n",
    "area = pi * r**2\n",
    "circumference = 2 *pi * r\n",
    "print(\"Area of the circle:\", area)\n",
    "print(\"Circumference of the circle:\", circumference)\n",
    "\n"
   ]
  },
  {
   "cell_type": "code",
   "execution_count": 19,
   "id": "f0d86ac9-4880-432c-a0f4-b92837fd2062",
   "metadata": {},
   "outputs": [
    {
     "name": "stdout",
     "output_type": "stream",
     "text": [
      "2.718281828459045\n"
     ]
    }
   ],
   "source": [
    "from math import e\n",
    "print(e)"
   ]
  },
  {
   "cell_type": "code",
   "execution_count": 21,
   "id": "807ce2bc-6a90-4d30-b1fc-59fa170a86b8",
   "metadata": {},
   "outputs": [
    {
     "name": "stdout",
     "output_type": "stream",
     "text": [
      "2.0\n",
      "8.0\n"
     ]
    }
   ],
   "source": [
    "#power and sqrt\n",
    "from math import sqrt,pow\n",
    "n=4\n",
    "print(sqrt(n))\n",
    "print(pow(2,3))"
   ]
  },
  {
   "cell_type": "code",
   "execution_count": 25,
   "id": "c0a7e30d-657a-4c76-9aeb-d732ed3d3ce3",
   "metadata": {},
   "outputs": [
    {
     "name": "stdout",
     "output_type": "stream",
     "text": [
      "sin: 0.6427876096865393\n",
      "cos: 0.766044443118978\n",
      "tan: 0.8390996311772799\n"
     ]
    }
   ],
   "source": [
    "#trignometric functions\n",
    "from math import sin,cos,tan,radians\n",
    "angle=40\n",
    "print(\"sin:\",sin(radians(angle)))\n",
    "print(\"cos:\",cos(radians(angle)))\n",
    "print(\"tan:\",tan(radians(angle)))\n"
   ]
  },
  {
   "cell_type": "code",
   "execution_count": 31,
   "id": "1d70d8df-3948-46c7-938d-09522dc36648",
   "metadata": {},
   "outputs": [
    {
     "name": "stdout",
     "output_type": "stream",
     "text": [
      "floor: 6\n",
      "cell: 7\n"
     ]
    }
   ],
   "source": [
    "from math import floor , ceil\n",
    "num=6.5\n",
    "print(\"floor:\",floor(num))\n",
    "print(\"cell:\",ceil(num))"
   ]
  },
  {
   "cell_type": "code",
   "execution_count": 33,
   "id": "811a86e6-7d1c-4bb7-b8cf-549d00e5fd4f",
   "metadata": {},
   "outputs": [
    {
     "name": "stdout",
     "output_type": "stream",
     "text": [
      "natural log: 1.0\n",
      "log base 10 of 100: 2.0\n",
      "e to the power 2: 7.38905609893065\n"
     ]
    }
   ],
   "source": [
    "from math import log,log10,exp\n",
    "print(\"natural log:\",log(e))\n",
    "print(\"log base 10 of 100:\",log10(100))\n",
    "print(\"e to the power 2:\",exp(2))"
   ]
  },
  {
   "cell_type": "code",
   "execution_count": 39,
   "id": "57bb12af-c841-499f-908b-ef4d6c376da3",
   "metadata": {},
   "outputs": [
    {
     "name": "stdout",
     "output_type": "stream",
     "text": [
      "current time: 2025-05-09 11:17:27.442702\n",
      "Date: 2025-05-09\n",
      "Time: 11:17:27.442702\n"
     ]
    }
   ],
   "source": [
    "#date time and calendar epoch time\n",
    "from datetime import datetime\n",
    "now=datetime.now()\n",
    "print(\"current time:\",now)\n",
    "print(\"Date:\",now.date())\n",
    "print(\"Time:\",now.time())"
   ]
  },
  {
   "cell_type": "code",
   "execution_count": 5,
   "id": "540ed87f-c66c-4fe7-9a21-6555428f3884",
   "metadata": {},
   "outputs": [
    {
     "name": "stdout",
     "output_type": "stream",
     "text": [
      "                                  2025\n",
      "\n",
      "      January                   February                   March\n",
      "Mo Tu We Th Fr Sa Su      Mo Tu We Th Fr Sa Su      Mo Tu We Th Fr Sa Su\n",
      "       1  2  3  4  5                      1  2                      1  2\n",
      " 6  7  8  9 10 11 12       3  4  5  6  7  8  9       3  4  5  6  7  8  9\n",
      "13 14 15 16 17 18 19      10 11 12 13 14 15 16      10 11 12 13 14 15 16\n",
      "20 21 22 23 24 25 26      17 18 19 20 21 22 23      17 18 19 20 21 22 23\n",
      "27 28 29 30 31            24 25 26 27 28            24 25 26 27 28 29 30\n",
      "                                                    31\n",
      "\n",
      "       April                      May                       June\n",
      "Mo Tu We Th Fr Sa Su      Mo Tu We Th Fr Sa Su      Mo Tu We Th Fr Sa Su\n",
      "    1  2  3  4  5  6                1  2  3  4                         1\n",
      " 7  8  9 10 11 12 13       5  6  7  8  9 10 11       2  3  4  5  6  7  8\n",
      "14 15 16 17 18 19 20      12 13 14 15 16 17 18       9 10 11 12 13 14 15\n",
      "21 22 23 24 25 26 27      19 20 21 22 23 24 25      16 17 18 19 20 21 22\n",
      "28 29 30                  26 27 28 29 30 31         23 24 25 26 27 28 29\n",
      "                                                    30\n",
      "\n",
      "        July                     August                  September\n",
      "Mo Tu We Th Fr Sa Su      Mo Tu We Th Fr Sa Su      Mo Tu We Th Fr Sa Su\n",
      "    1  2  3  4  5  6                   1  2  3       1  2  3  4  5  6  7\n",
      " 7  8  9 10 11 12 13       4  5  6  7  8  9 10       8  9 10 11 12 13 14\n",
      "14 15 16 17 18 19 20      11 12 13 14 15 16 17      15 16 17 18 19 20 21\n",
      "21 22 23 24 25 26 27      18 19 20 21 22 23 24      22 23 24 25 26 27 28\n",
      "28 29 30 31               25 26 27 28 29 30 31      29 30\n",
      "\n",
      "      October                   November                  December\n",
      "Mo Tu We Th Fr Sa Su      Mo Tu We Th Fr Sa Su      Mo Tu We Th Fr Sa Su\n",
      "       1  2  3  4  5                      1  2       1  2  3  4  5  6  7\n",
      " 6  7  8  9 10 11 12       3  4  5  6  7  8  9       8  9 10 11 12 13 14\n",
      "13 14 15 16 17 18 19      10 11 12 13 14 15 16      15 16 17 18 19 20 21\n",
      "20 21 22 23 24 25 26      17 18 19 20 21 22 23      22 23 24 25 26 27 28\n",
      "27 28 29 30 31            24 25 26 27 28 29 30      29 30 31\n",
      "\n"
     ]
    }
   ],
   "source": [
    "import calendar\n",
    "year=2025\n",
    "print(calendar.calendar(year))"
   ]
  },
  {
   "cell_type": "code",
   "execution_count": 49,
   "id": "fb5b9a62-97a6-4251-bf49-1e498aaf3dcd",
   "metadata": {},
   "outputs": [
    {
     "name": "stdout",
     "output_type": "stream",
     "text": [
      "is leap year False\n"
     ]
    }
   ],
   "source": [
    "import calendar\n",
    "year=2005\n",
    "print(\"is leap year\",calendar.isleap(year))\n"
   ]
  },
  {
   "cell_type": "code",
   "execution_count": 53,
   "id": "4f52b216-602f-4a92-b5dd-660665b0f42c",
   "metadata": {},
   "outputs": [
    {
     "name": "stdout",
     "output_type": "stream",
     "text": [
      "19"
     ]
    }
   ],
   "source": [
    "import calendar\n",
    "leaps=calendar.leapdays(1925,2004)\n",
    "print(leaps,end='')"
   ]
  },
  {
   "cell_type": "code",
   "execution_count": 59,
   "id": "af75f863-eae0-4f9b-8d7f-34be5c4fca32",
   "metadata": {},
   "outputs": [
    {
     "name": "stdout",
     "output_type": "stream",
     "text": [
      "difference in dates: -7456\n"
     ]
    }
   ],
   "source": [
    "#dates difference\n",
    "from datetime import date\n",
    "d1=date(2004,12,9)\n",
    "d2=date(2025,5,9)\n",
    "diff=d1-d2\n",
    "print(\"difference in dates:\",diff.days)"
   ]
  },
  {
   "cell_type": "code",
   "execution_count": 65,
   "id": "da617ae8-78a7-490b-8005-0857b0777bf7",
   "metadata": {},
   "outputs": [
    {
     "name": "stdout",
     "output_type": "stream",
     "text": [
      "Today: Friday\n"
     ]
    }
   ],
   "source": [
    "#day obrevation\n",
    "from datetime import date\n",
    "today=date.today()\n",
    "name=today.strftime(\"%A\")\n",
    "print(\"Today:\",name)"
   ]
  },
  {
   "cell_type": "code",
   "execution_count": 7,
   "id": "0bc33d01-1887-4de9-8e42-49252c1cb981",
   "metadata": {},
   "outputs": [
    {
     "name": "stdout",
     "output_type": "stream",
     "text": [
      "Firstday: Thursday,2025-00-05/01/25\n",
      "Lastday: Saturday,2025-00-05/31/25\n"
     ]
    }
   ],
   "source": [
    "import calendar\n",
    "from datetime import date\n",
    "year=2025\n",
    "month=5\n",
    "fday=date(year,month,1)\n",
    "lday=date(year,month,calendar.monthrange(year,month)[1])\n",
    "print(\"Firstday:\",fday.strftime(\"%A,%Y-%M-%D\"))\n",
    "print(\"Lastday:\",lday.strftime(\"%A,%Y-%M-%D\"))"
   ]
  },
  {
   "cell_type": "code",
   "execution_count": null,
   "id": "da392ce9-b2d8-4d0b-b7e8-496b77c12b6d",
   "metadata": {},
   "outputs": [],
   "source": []
  }
 ],
 "metadata": {
  "kernelspec": {
   "display_name": "Python 3 (ipykernel)",
   "language": "python",
   "name": "python3"
  },
  "language_info": {
   "codemirror_mode": {
    "name": "ipython",
    "version": 3
   },
   "file_extension": ".py",
   "mimetype": "text/x-python",
   "name": "python",
   "nbconvert_exporter": "python",
   "pygments_lexer": "ipython3",
   "version": "3.12.7"
  }
 },
 "nbformat": 4,
 "nbformat_minor": 5
}
